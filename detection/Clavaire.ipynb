{
 "cells": [
  {
   "cell_type": "code",
   "execution_count": 2,
   "id": "08d857d1-f8b3-43ed-9b6f-bd72e4eb7e53",
   "metadata": {},
   "outputs": [],
   "source": [
    "import numpy as np"
   ]
  },
  {
   "cell_type": "markdown",
   "id": "36db8690-038b-40e8-bf98-3772e317993e",
   "metadata": {},
   "source": [
    "1)"
   ]
  },
  {
   "cell_type": "code",
   "execution_count": 3,
   "id": "76326b15-3e08-4ed1-9e6e-3bfb2a9f40b6",
   "metadata": {},
   "outputs": [],
   "source": [
    "notes1=np.random.randint(0,21,(5,))\n",
    "notes2=np.random.randint(0,21,(5,))"
   ]
  },
  {
   "cell_type": "code",
   "execution_count": 5,
   "id": "9fa31196-a95a-4f51-8bb6-e60470add3c7",
   "metadata": {},
   "outputs": [
    {
     "name": "stdout",
     "output_type": "stream",
     "text": [
      "[ 3  1  2  1 11]\n",
      "[16  6  7 14 16]\n"
     ]
    }
   ],
   "source": [
    "print(notes1)\n",
    "print(notes2)"
   ]
  },
  {
   "cell_type": "markdown",
   "id": "c583f833-c76b-4c24-891a-462dc852d753",
   "metadata": {},
   "source": [
    "2)"
   ]
  },
  {
   "cell_type": "code",
   "execution_count": 16,
   "id": "65ab0f9a-1949-415b-a24b-45440d1e1efd",
   "metadata": {},
   "outputs": [],
   "source": [
    "notes= np.concatenate((notes1,notes2))"
   ]
  },
  {
   "cell_type": "code",
   "execution_count": 14,
   "id": "d211c263-9df1-4d4c-889c-deb47292412d",
   "metadata": {},
   "outputs": [
    {
     "name": "stdout",
     "output_type": "stream",
     "text": [
      "[ 3  1  2  1 11 16  6  7 14 16]\n"
     ]
    }
   ],
   "source": [
    "print(notes)"
   ]
  },
  {
   "cell_type": "markdown",
   "id": "b1644dbe-70b5-4baa-ae41-b4c9d2ddb4e0",
   "metadata": {},
   "source": [
    "3)"
   ]
  },
  {
   "cell_type": "code",
   "execution_count": 17,
   "id": "a3d58f5c-a5fa-4119-9986-8a5aa7bfa4ff",
   "metadata": {},
   "outputs": [
    {
     "name": "stdout",
     "output_type": "stream",
     "text": [
      "Etudiant 0 : 3 16\n",
      "Etudiant 1 : 1 6\n",
      "Etudiant 2 : 2 7\n",
      "Etudiant 3 : 1 14\n",
      "Etudiant 4 : 11 16\n"
     ]
    }
   ],
   "source": [
    "for i in range(5):\n",
    "    print(\"Etudiant\", i, \":\", notes[i], notes[i+5])"
   ]
  },
  {
   "cell_type": "markdown",
   "id": "693f2546-1d0a-456d-977c-9d93e0179cd4",
   "metadata": {},
   "source": [
    "4)"
   ]
  },
  {
   "cell_type": "code",
   "execution_count": 27,
   "id": "8dc21c03-6b5c-4e7a-9b45-b50e99b19039",
   "metadata": {},
   "outputs": [
    {
     "name": "stdout",
     "output_type": "stream",
     "text": [
      "[ 3.   1.   2.   1.  11.   3.6  3.6]\n",
      "[16.   6.   7.  14.  16.  11.8 11.8]\n"
     ]
    }
   ],
   "source": [
    "notes1=np.concatenate((notes1,[np.mean(notes1)]))\n",
    "notes2=np.concatenate((notes2,[np.mean(notes2)]))\n",
    "print(notes1)\n",
    "print(notes2)"
   ]
  },
  {
   "cell_type": "markdown",
   "id": "718f2c1b-40de-4670-9e9e-adacfcf3c4b8",
   "metadata": {},
   "source": [
    "5)"
   ]
  },
  {
   "cell_type": "code",
   "execution_count": 31,
   "id": "e22be540-fc43-43cd-938f-c525c718f8a6",
   "metadata": {},
   "outputs": [
    {
     "name": "stdout",
     "output_type": "stream",
     "text": [
      "note moyenne : [ 3.   1.   2.   1.  11.   3.6  3.6 16.   6.   7.  14.  16.  11.8 11.8]\n"
     ]
    }
   ],
   "source": [
    "notes_moyenne=np.concatenate((notes1,notes2))\n",
    "print(\"note moyenne :\",notes_moyenne)"
   ]
  },
  {
   "cell_type": "markdown",
   "id": "3688d956-f3fa-4c2b-a2cd-88c6305a3eae",
   "metadata": {},
   "source": [
    "6)"
   ]
  },
  {
   "cell_type": "code",
   "execution_count": 35,
   "id": "0e6303c3-8d83-4bac-887c-a4058e3664ca",
   "metadata": {},
   "outputs": [
    {
     "name": "stdout",
     "output_type": "stream",
     "text": [
      "Etudiant 0 : 3.0 3.6\n",
      "Etudiant 1 : 1.0 3.6\n",
      "Etudiant 2 : 2.0 16.0\n",
      "Etudiant 3 : 1.0 6.0\n",
      "Etudiant 4 : 11.0 7.0\n"
     ]
    }
   ],
   "source": [
    "for i in range(5):\n",
    "    print(\"Etudiant\",i,\":\",notes_moyenne[i],notes_moyenne[i+5])"
   ]
  },
  {
   "cell_type": "code",
   "execution_count": 44,
   "id": "fbfeb444-60a0-4b5e-81fb-e5216e1be932",
   "metadata": {},
   "outputs": [
    {
     "name": "stdout",
     "output_type": "stream",
     "text": [
      "Moyenne de chaque matière : math: 3.6 \n",
      "physyque: 11.799999999999999\n"
     ]
    }
   ],
   "source": [
    "moy_mat1 = np.mean(notes1[:-1])\n",
    "moy_mat2 = np.mean(notes2[:-1])\n",
    "print(\"Moyenne de chaque matière :\", \"math:\",moy_mat1,\"\\nphysyque:\", moy_mat2)\n"
   ]
  },
  {
   "cell_type": "code",
   "execution_count": 45,
   "id": "b48b5ebc-b34c-4cc4-960c-62d26ad9d7de",
   "metadata": {},
   "outputs": [
    {
     "name": "stdout",
     "output_type": "stream",
     "text": [
      "Moyenne de chaque matière : [ 3.6 11.8]\n"
     ]
    }
   ],
   "source": [
    "\n",
    "moy_mat1 = np.mean(notes1[:5])\n",
    "moy_mat2 = np.mean(notes2[:5])\n",
    "moyennes_mat = np.array([moy_mat1, moy_mat2])\n",
    "print(\"Moyenne de chaque matière :\", moyennes_mat)"
   ]
  },
  {
   "cell_type": "code",
   "execution_count": null,
   "id": "1c8c27e5-5a67-410c-af48-67ccce0b5125",
   "metadata": {},
   "outputs": [],
   "source": []
  },
  {
   "cell_type": "code",
   "execution_count": null,
   "id": "340e1867-b394-431f-ae0a-f228a4f46ab6",
   "metadata": {},
   "outputs": [],
   "source": []
  }
 ],
 "metadata": {
  "kernelspec": {
   "display_name": "Python 3 (ipykernel)",
   "language": "python",
   "name": "python3"
  },
  "language_info": {
   "codemirror_mode": {
    "name": "ipython",
    "version": 3
   },
   "file_extension": ".py",
   "mimetype": "text/x-python",
   "name": "python",
   "nbconvert_exporter": "python",
   "pygments_lexer": "ipython3",
   "version": "3.8.8"
  }
 },
 "nbformat": 4,
 "nbformat_minor": 5
}
